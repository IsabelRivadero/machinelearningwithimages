{
 "cells": [
  {
   "cell_type": "markdown",
   "metadata": {},
   "source": [
    "# <center> Curso Machine Learning e Imágenes en Python 2020\n",
    "    \n",
    "* Docentes:  Dra. Valeria S. Rulloni - Dra. Ana Carolina Maldonado\n",
    "* Ing. Axel Aguerreberry -  Ing. Sebastián Palacio\n",
    "* Colaborador: Ing. Juan Manuel López\n",
    "\n",
    "\n",
    "## Temario a desarrollar:\n",
    "*\tUso y herramientas básicas de Python\n",
    "*\tImágenes digitales: tipos (binarias, monocromáticas y a color)\n",
    "*\tHistograma. Mejora de la imagen: contraste, filtros: suavizado y detección de bordes.\n",
    "*\t**Umbralado y Binarización.** Operaciones Morfológicas: erosión, dilatación, cierre y apertura.\n",
    "*\tAplicaciones\n",
    "*\tClasificación de imágenes.\n",
    "*\tAprendizaje automático\n",
    "*\tAprendizaje profundo: Redes neuronales\n",
    "*\tAplicaciones \n",
    "\n",
    "**CLASE 7: 26-10-2020** \n",
    "\n",
    "    Binarización. Operaciones Morfológicas.\n",
    "    \n",
    "archivos necesarios para la notebook:\n",
    "\n",
    "**Imágenes necesarias: 'lenna.jpg', 'ortopantomografia2.png','monedas.jpg', 'daisy.jpg', 'sudoku.png'**"
   ]
  },
  {
   "cell_type": "markdown",
   "metadata": {},
   "source": [
    "# Histograma\n",
    "### El **Histograma** de una imagen es la gráfica que muestra la cantidad de píxeles que tienen una misma intensidad luminosa, para todas las intensidades.\n",
    "\n",
    "### Muestra gráficamente el vector de frecuencias de las intensidades presentes en la imagen."
   ]
  },
  {
   "cell_type": "code",
   "execution_count": null,
   "metadata": {},
   "outputs": [],
   "source": [
    "#Cargo imagen monocroma y grafico\n",
    "import cv2\n",
    "import numpy as np\n",
    "import matplotlib.pyplot as plt\n",
    "\n",
    "img = cv2.imread('lenna.jpg',0)#El 0 indica que devuelve imagen monocroma directamente\n",
    "#img = cv2.imread('lenna.jpg', cv2.IMREAD_GRAYSCALE)#equivalente al anterior\n",
    "print('tamaño de la imagen monocroma:', img.shape)\n",
    "plt.imshow(img, cmap='gray')\n",
    "plt.colorbar()\n",
    "plt.show()"
   ]
  },
  {
   "cell_type": "markdown",
   "metadata": {},
   "source": [
    "## Histograma obtenido mediante opencv o mediante matplotlib\n",
    "**Histograma mediante opencv:**"
   ]
  },
  {
   "cell_type": "code",
   "execution_count": null,
   "metadata": {},
   "outputs": [],
   "source": [
    "#cv2.calcHist(images, channels, mask, histSize, ranges[, hist[, accumulate]]) #Devuelve un vector\n",
    "hist = cv2.calcHist([img],[0],None,[256],[0,256])\n",
    "plt.plot(hist,'.')\n",
    "plt.xlabel(\"bins-Intensidad de Iluminación intervalo: \"+str([0,256]))\n",
    "plt.ylabel(\"Cantidad de Píxeles\")\n",
    "plt.title(\"Histograma de opencv\")\n",
    "plt.show()"
   ]
  },
  {
   "cell_type": "markdown",
   "metadata": {},
   "source": [
    "**Histograma mediante matplotlib**"
   ]
  },
  {
   "cell_type": "code",
   "execution_count": null,
   "metadata": {
    "scrolled": true
   },
   "outputs": [],
   "source": [
    "print('Intensidades de toda la imagen monocroma:')\n",
    "print ('Media:', np.mean(img),', Mediana:', np.median(img),\n",
    "       ', Desvío:', np.std(img))\n",
    "plt.hist(img.ravel(), 256,[0,256] ) #sin límites hace autoescalado de los ejes\n",
    "plt.title('histograma'), plt.xlabel('bins de intensidad de iluminacion'), plt.ylabel('cantidad de pixeles')\n",
    "plt.show()"
   ]
  },
  {
   "cell_type": "markdown",
   "metadata": {},
   "source": [
    "**Repita el procedimiento para la imagen daisy.jpg (abra la imagen en monocroma y muestre su histograma)**"
   ]
  },
  {
   "cell_type": "code",
   "execution_count": null,
   "metadata": {},
   "outputs": [],
   "source": []
  },
  {
   "cell_type": "markdown",
   "metadata": {},
   "source": [
    "## Binarización por Umbralizado\n",
    "* Primero se define un valor de corte llamado $umbral$, con algún criterio (arbitrario, 127, media, Otsu, etc.)\n",
    " $$T(r)=\\left\\{\n",
    "\\begin{array}{lr}\n",
    "  1& r\\geq umbral\\\\\n",
    "\t0& r<umbral\\\\\t\n",
    "\\end{array}\n",
    "\\right.$$\n",
    "\n",
    "*O su negativo:\n",
    "\n",
    "$$T(r)=\\left\\{\n",
    "\\begin{array}{lr}\n",
    "  0& r\\geq umbral\\\\\n",
    "\t1& r<umbral\\\\\t\n",
    "\\end{array}\n",
    "\\right.$$\n",
    "\n",
    "\n",
    "\n",
    "\n",
    "* Se puede generalizar a segmentación por umbralizado (varios umbrales, por ejemplo MultiOtsu)\n",
    "\n"
   ]
  },
  {
   "cell_type": "markdown",
   "metadata": {},
   "source": [
    "**Inspecione el histograma de la imagen daisy y elija un valor de umbral para binarizar la imagen (selección manual/arbitraria)**"
   ]
  },
  {
   "cell_type": "code",
   "execution_count": null,
   "metadata": {},
   "outputs": [],
   "source": [
    "umbral=int(input('ingrese un valor de umbral entre 0 y 255: '))\n",
    "print(type(umbral))"
   ]
  },
  {
   "cell_type": "markdown",
   "metadata": {},
   "source": [
    "**Obtenga la imagen binaria resultante de utilizar el umbral elegido por el usuario y muéstrela**"
   ]
  },
  {
   "cell_type": "code",
   "execution_count": null,
   "metadata": {},
   "outputs": [],
   "source": [
    "binaria=   #arreglo de booleanos\n",
    "print(type(binaria[0,0]))"
   ]
  },
  {
   "cell_type": "code",
   "execution_count": null,
   "metadata": {},
   "outputs": [],
   "source": [
    "#binaria=255*binaria.astype('uint8')"
   ]
  },
  {
   "cell_type": "code",
   "execution_count": null,
   "metadata": {},
   "outputs": [],
   "source": [
    "fig, axs = plt.subplots(nrows=1, ncols=2, sharex=False)\n",
    "axs=axs.ravel()\n",
    "fig.set_figheight(6)\n",
    "fig.set_figwidth(10)\n",
    "axs[0].imshow(img, cmap='gray',vmin=0 ,vmax=255)\n",
    "axs[0].set_title('Imagen monocroma')\n",
    "axs[1].imshow(binaria, cmap='gray',vmin=0 ,vmax=255)\n",
    "axs[1].set_title('Imagen binaria')\n",
    "plt.show()"
   ]
  },
  {
   "cell_type": "markdown",
   "metadata": {},
   "source": [
    "**Ahora se repite el procedimiento y muestran los respectivos histogramas abajo de cada imagen, utilizando la imagen 'monedas.jpg': **"
   ]
  },
  {
   "cell_type": "code",
   "execution_count": 1,
   "metadata": {
    "scrolled": true
   },
   "outputs": [
    {
     "name": "stdout",
     "output_type": "stream",
     "text": [
      "<class 'numpy.bool_'>\n",
      "<class 'numpy.uint8'>\n"
     ]
    }
   ],
   "source": [
    "import cv2\n",
    "import numpy as np\n",
    "import matplotlib.pyplot as plt\n",
    "img = cv2.imread('monedas.jpg',0) #imagen monocroma\n",
    "umbral=180 #arbitrario\n",
    "binaria=(img>=umbral)\n",
    "print(type(binaria[0,0]))\n",
    "binaria=255*binaria.astype('uint8')\n",
    "print(type(binaria[0,0]))"
   ]
  },
  {
   "cell_type": "code",
   "execution_count": 4,
   "metadata": {},
   "outputs": [
    {
     "data": {
      "image/png": "[encoded data removed]",
      "text/plain": [
       "<Figure size 720x432 with 4 Axes>"
      ]
     },
     "metadata": {
      "needs_background": "light"
     },
     "output_type": "display_data"
    }
   ],
   "source": [
    "fig, axs = plt.subplots(nrows=2, ncols=2, sharex=False)\n",
    "axs=axs.ravel()\n",
    "fig.set_figheight(6)\n",
    "fig.set_figwidth(10)\n",
    "axs[0].imshow(img, cmap='gray',vmin=0 ,vmax=255)\n",
    "axs[0].set_title('Imagen monocroma')\n",
    "axs[1].imshow(binaria, cmap='gray',vmin=0 ,vmax=255)\n",
    "axs[1].set_title('Imagen binaria')\n",
    "axs[2].hist(img[:,:].ravel(), 256,[0,256] ) \n",
    "axs[2].set_xlabel('bins de intensidad')\n",
    "axs[2].set_ylabel('cantidad de pixeles')\n",
    "axs[3].hist(binaria[:,:].ravel(), 256,[0,256] ) \n",
    "axs[3].set_xlabel('bins de intensidad')\n",
    "axs[3].set_ylabel('cantidad de pixeles')\n",
    "plt.show()"
   ]
  },
  {
   "cell_type": "code",
   "execution_count": null,
   "metadata": {},
   "outputs": [],
   "source": [
    "#continuación\n",
    "umbral=180\n",
    "ret1,binaria1 = cv2.threshold(img,umbral,255,cv2.THRESH_BINARY)\n",
    "ret2,binaria2 = cv2.threshold(img,umbral,255,cv2.THRESH_BINARY_INV)\n",
    "# Otsu's thresholding\n",
    "ret3,binaria3 = cv2.threshold(img,0,255,cv2.THRESH_BINARY_INV+cv2.THRESH_OTSU)\n",
    "print(type(binaria3[0,0]))\n",
    "fig, axs = plt.subplots(nrows=1, ncols=3, sharex=True)\n",
    "fig.set_figheight(4)\n",
    "fig.set_figwidth(15)\n",
    "axs[0].imshow(binaria1, cmap='gray',vmin=0 ,vmax=255)\n",
    "axs[0].set_title('Binaria')\n",
    "axs[1].imshow(binaria2, cmap='gray',vmin=0 ,vmax=255)\n",
    "axs[1].set_title('Binaria Invertida')\n",
    "axs[2].imshow(binaria3, cmap='gray',vmin=0 ,vmax=255)\n",
    "axs[2].set_title('Binaria Invertida y con umbral Otsu (automático)')\n",
    "plt.show()\n",
    "print('umbral calculado por Otsu:', ret3)\n"
   ]
  },
  {
   "cell_type": "markdown",
   "metadata": {},
   "source": [
    "**A partir de la imagen 'ortopantomografia2', obtenga una imagen binaria con unos/true/255 en el lugar de los dientes**"
   ]
  },
  {
   "cell_type": "code",
   "execution_count": null,
   "metadata": {},
   "outputs": [],
   "source": []
  },
  {
   "cell_type": "markdown",
   "metadata": {},
   "source": [
    "**Otro ejemplo especial**"
   ]
  },
  {
   "cell_type": "code",
   "execution_count": null,
   "metadata": {},
   "outputs": [],
   "source": [
    "import cv2\n",
    "import numpy as np\n",
    "import matplotlib.pyplot as plt\n",
    "img = cv2.imread('sudoku.png',0) #imagen monocroma\n",
    "plt.imshow(img, cmap='gray'), plt.axis('off')\n",
    "plt.show()"
   ]
  },
  {
   "cell_type": "code",
   "execution_count": null,
   "metadata": {},
   "outputs": [],
   "source": [
    "plt.hist(img.ravel(),256)\n",
    "plt.show()"
   ]
  },
  {
   "cell_type": "code",
   "execution_count": null,
   "metadata": {},
   "outputs": [],
   "source": [
    "#binarización\n",
    "umbral=img.mean()\n",
    "print('el umbral utilizado fue:', umbral)#se elige la media como umbral\n",
    "ret4,binaria4 = cv2.threshold(img,umbral,255,cv2.THRESH_BINARY)\n",
    "print('valores de imagen binaria: ', np.unique(binaria4))\n",
    "plt.imshow(binaria4, cmap='gray'), plt.axis('off')\n",
    "plt.show()"
   ]
  },
  {
   "cell_type": "markdown",
   "metadata": {},
   "source": [
    "### Binarización adaptativa (umbral local: media o media ponderada gaussiana)"
   ]
  },
  {
   "cell_type": "code",
   "execution_count": null,
   "metadata": {},
   "outputs": [],
   "source": [
    "binaria5 = cv2.adaptiveThreshold(img,255,cv2.ADAPTIVE_THRESH_MEAN_C,cv2.THRESH_BINARY,21,6)\n",
    "binaria6 = cv2.adaptiveThreshold(img,255,cv2.ADAPTIVE_THRESH_GAUSSIAN_C,cv2.THRESH_BINARY,21,6)\n",
    "plt.imshow(binaria5, cmap='gray'), plt.axis('off')\n",
    "plt.show()\n",
    "plt.imshow(binaria6, cmap='gray'),plt.axis('off')\n",
    "plt.show()"
   ]
  },
  {
   "cell_type": "markdown",
   "metadata": {},
   "source": [
    "**Ejercicio: A partir de la imagen 'daisy.jpg', calcular una imagen binaria con los bordes de la flor:**\n",
    "\n",
    "* primero: abrir la imagen y pasar a monocroma\n",
    "* segundo: aplicar filtro de bordes \n",
    "\n",
    "> ayuda: \n",
    "> - cv2.Sobel(img,cv2.CV_64F,1,0,ksize=3) ó\n",
    "> - cv2.filter2D(img,CV_64F, kernel,borderType = cv2.BORDER_CONSTANT))\n",
    "\n",
    "* tercero: binarizar"
   ]
  },
  {
   "cell_type": "code",
   "execution_count": null,
   "metadata": {},
   "outputs": [],
   "source": []
  },
  {
   "cell_type": "markdown",
   "metadata": {},
   "source": [
    "### ¿Cómo pueden mejorarse las binarizaciones (segmentaciones binarias) encontradas?"
   ]
  },
  {
   "cell_type": "code",
   "execution_count": null,
   "metadata": {},
   "outputs": [],
   "source": []
  }
 ],
 "metadata": {
  "kernelspec": {
   "display_name": "Python 3",
   "language": "python",
   "name": "python3"
  },
  "language_info": {
   "codemirror_mode": {
    "name": "ipython",
    "version": 3
   },
   "file_extension": ".py",
   "mimetype": "text/x-python",
   "name": "python",
   "nbconvert_exporter": "python",
   "pygments_lexer": "ipython3",
   "version": "3.7.3"
  }
 },
 "nbformat": 4,
 "nbformat_minor": 2
}

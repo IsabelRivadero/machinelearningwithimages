{
 "cells": [
  {
   "cell_type": "markdown",
   "metadata": {
    "id": "6CGWSp8PvNBa"
   },
   "source": [
    "# <center> Curso Machine Learning e Imágenes en Python\n",
    "    \n",
    "* Docentes:  Dra. Valeria S. Rulloni - Dra. Ana Carolina Maldonado\n",
    "* Colaboran: Ing. Juan Manuel López\n",
    "* Ing. Axel Aguerreberry -  Ing. Sebastián Palacio\n",
    "\n",
    "\n",
    "\n",
    "## Temario a desarrollar:\n",
    "*\t**Uso y herramientas básicas de Python**\n",
    "*\tImágenes digitales: tipos (binarias, monocromáticas y a color)\n",
    "*\tHistograma. Mejora de la imagen: contraste, filtros: suavizado y detección de bordes.\n",
    "*\tUmbralado y Binarización. Operaciones Morfológicas: erosión, dilatación, cierre y apertura.\n",
    "*\tAplicaciones\n",
    "*\tClasificación de imágenes.\n",
    "*\tAprendizaje automático\n",
    "*\tAprendizaje profundo: Redes neuronales\n",
    "*\tAplicaciones \n",
    "\n",
    "\n",
    "**Recomendación:**\n",
    "+ Antes que nada **realice una copia de este archivo y trabaje en ella** (File-> Make a Copy, puede cambiarle el nombre fácilmente). Guárdelo en la misma carpeta de preferencia (si está en Colaboratory lo guarda por defecto en la carpeta Colaboratory del drive, se puede reubicar).\n"
   ]
  },
  {
   "cell_type": "markdown",
   "metadata": {
    "id": "Ex9kCb0EvNBc"
   },
   "source": [
    "**CLASE 1:**  \n",
    "**Uso Básico de Python** (en Colaboratory o con Jupyter Notebook):\n",
    "\n",
    "## Inicio y consideraciones\n",
    "+ Este archivo y todos los de extensión .ipynb se abren con Jupyter Notebook (de Anaconda) o Google Colaboratory y se dividen en bloques.\n",
    "+ Básicamente: bloques de texto (Markdown) y otros de código (Code, en Python). \n",
    "+ Cualquier bloque se ejecuta con shift+enter o utilizando el botón Run.\n",
    "+ Los bloques se pueden eliminar con el menú Edit. O con los botones correspondientes (cortar, copiar, pegar, desplazar).\n",
    "+ El archivo se puede ejecutar en el entorno de Windows en la carpeta correspondiente (o desde cualquiera si se ha configurado el path) mediante el comando python en línea de comandos\n",
    "\n",
    "**En los bloques de texto (Markdown)** :\n",
    "\n",
    "* Mediante un doble clic en el bloque, posibilito la modificación del mismo.\n",
    "* Para títulos se usa # y luego del símbolo # se debe dejar un espacio.\n",
    "* Con varios ## se manejan los subtítulos por niveles y, con esto, el tamaño de la letra.\n",
    "* Encerrando un texto entre uno o dos asteriscos se consigue texto en cursiva o negrita.\n",
    "\n",
    "**En los bloques de código (Code)** :\n",
    "* Si el renglón  empieza con # es comentario, si no, es instrucción.\n",
    "* En una línea de instrucción, se pueda agregar al final un comentario luego de #.\n",
    "\n",
    "\n",
    "**shift+enter** para ejecutar cada celda/bloque/Cell (o botón Run), tanto en bloque de textos como de códigos\n",
    "\n"
   ]
  },
  {
   "cell_type": "markdown",
   "metadata": {
    "id": "eWS0Q_yjvNBd"
   },
   "source": [
    "# 1 Instrucciones Básicas\n",
    "\n",
    "## 1.1 Datos\n",
    "\n",
    "**Captura de Datos: input**  \n",
    "**Muestra de Datos: print**"
   ]
  },
  {
   "cell_type": "code",
   "execution_count": 1,
   "metadata": {
    "colab": {
     "base_uri": "https://localhost:8080/"
    },
    "executionInfo": {
     "elapsed": 7188,
     "status": "ok",
     "timestamp": 1627418286226,
     "user": {
      "displayName": "Valeria S RULLONI",
      "photoUrl": "",
      "userId": "09936144167370803067"
     },
     "user_tz": 180
    },
    "id": "-9UIBrzovNBf",
    "outputId": "7be5f828-d88e-43a7-c8c3-ccc6f00e073c"
   },
   "outputs": [
    {
     "name": "stdout",
     "output_type": "stream",
     "text": [
      "Dígame un número: \n",
      "El nro ingresado es:  \n",
      "El tipo del dato ingresado es  <class 'str'>\n"
     ]
    }
   ],
   "source": [
    "# Se pide el ingreso de un número por teclado y se muestra el número y el tipo de dato.\n",
    "# Si no forzamos el tipo de dato en el ingreso, lo toma como string (cadena de caracteres)\n",
    "numero = input(\"Dígame un número: \")\n",
    "print(\"El nro ingresado es: \",numero)\n",
    "print(\"El tipo del dato ingresado es \",type(numero))"
   ]
  },
  {
   "cell_type": "markdown",
   "metadata": {
    "id": "j3WMOyf0vNBn"
   },
   "source": [
    "**Tipos de datos básicos en Python:**\n",
    "\n",
    "int\n",
    "\n",
    "float\n",
    "\n",
    "str\n",
    "\n",
    "bool\n",
    "\n",
    "complex"
   ]
  },
  {
   "cell_type": "markdown",
   "metadata": {
    "id": "y6ri7I6JvNBo"
   },
   "source": [
    "**Si desea que el número corresponda a un tipo de dato numérico, por ejemplo número entero o flotante, debe darle la orden**"
   ]
  },
  {
   "cell_type": "code",
   "execution_count": 2,
   "metadata": {
    "colab": {
     "base_uri": "https://localhost:8080/"
    },
    "executionInfo": {
     "elapsed": 12261,
     "status": "ok",
     "timestamp": 1627418335195,
     "user": {
      "displayName": "Valeria S RULLONI",
      "photoUrl": "",
      "userId": "09936144167370803067"
     },
     "user_tz": 180
    },
    "id": "JX7DSfyGvNBq",
    "outputId": "817234d9-1731-43bf-eb7b-44e68ccf731b"
   },
   "outputs": [
    {
     "name": "stdout",
     "output_type": "stream",
     "text": [
      "Dígame un número: \n"
     ]
    },
    {
     "ename": "ValueError",
     "evalue": "invalid literal for int() with base 10: ''",
     "output_type": "error",
     "traceback": [
      "\u001b[0;31m---------------------------------------------------------------------------\u001b[0m",
      "\u001b[0;31mValueError\u001b[0m                                Traceback (most recent call last)",
      "\u001b[0;32m<ipython-input-2-293ec887e70c>\u001b[0m in \u001b[0;36m<module>\u001b[0;34m\u001b[0m\n\u001b[0;32m----> 1\u001b[0;31m \u001b[0mnumero\u001b[0m \u001b[0;34m=\u001b[0m \u001b[0mint\u001b[0m\u001b[0;34m(\u001b[0m\u001b[0minput\u001b[0m\u001b[0;34m(\u001b[0m\u001b[0;34m\"Dígame un número: \"\u001b[0m\u001b[0;34m)\u001b[0m\u001b[0;34m)\u001b[0m\u001b[0;34m\u001b[0m\u001b[0;34m\u001b[0m\u001b[0m\n\u001b[0m\u001b[1;32m      2\u001b[0m \u001b[0mprint\u001b[0m\u001b[0;34m(\u001b[0m\u001b[0;34m\"El nro ingresado es: \"\u001b[0m\u001b[0;34m,\u001b[0m \u001b[0mnumero\u001b[0m\u001b[0;34m)\u001b[0m\u001b[0;34m\u001b[0m\u001b[0;34m\u001b[0m\u001b[0m\n\u001b[1;32m      3\u001b[0m \u001b[0mprint\u001b[0m\u001b[0;34m(\u001b[0m\u001b[0;34m\"El tipo del dato ingresado es \"\u001b[0m\u001b[0;34m,\u001b[0m\u001b[0mtype\u001b[0m\u001b[0;34m(\u001b[0m\u001b[0mnumero\u001b[0m\u001b[0;34m)\u001b[0m\u001b[0;34m,\u001b[0m \u001b[0;34m\"porque se lo forzó\"\u001b[0m\u001b[0;34m)\u001b[0m\u001b[0;34m\u001b[0m\u001b[0;34m\u001b[0m\u001b[0m\n",
      "\u001b[0;31mValueError\u001b[0m: invalid literal for int() with base 10: ''"
     ]
    }
   ],
   "source": [
    "numero = int(input(\"Dígame un número: \"))\n",
    "print(\"El nro ingresado es: \", numero)\n",
    "print(\"El tipo del dato ingresado es \",type(numero), \"porque se lo forzó\")"
   ]
  },
  {
   "cell_type": "markdown",
   "metadata": {
    "id": "4EsGYPn_sl6c"
   },
   "source": [
    "**Asignación directa:**\n"
   ]
  },
  {
   "cell_type": "code",
   "execution_count": null,
   "metadata": {
    "colab": {
     "base_uri": "https://localhost:8080/"
    },
    "executionInfo": {
     "elapsed": 429,
     "status": "ok",
     "timestamp": 1627418401140,
     "user": {
      "displayName": "Valeria S RULLONI",
      "photoUrl": "",
      "userId": "09936144167370803067"
     },
     "user_tz": 180
    },
    "id": "H4ita9MUsW2A",
    "outputId": "5e4f4ff6-8094-4081-ea4e-c0affec017cb"
   },
   "outputs": [],
   "source": [
    "x=7  #variable de nombre x y con valor 7, tipo de la variable: int (entero)\n",
    "print(x, type(x))"
   ]
  },
  {
   "cell_type": "markdown",
   "metadata": {
    "id": "SKLFuvfqvNBx"
   },
   "source": [
    "Si asignamos un valor numérico a una variable, esta define automáticamente el tipo.\n",
    "\n",
    "Los números reales se almacenan en variables tipo \"float\".\n",
    "\n",
    "Los valores que puede representar van desde ±2,2250738585072020 x 10308 hasta ±1,7976931348623157×10308, ya que utilizan 64 bits.\n"
   ]
  },
  {
   "cell_type": "code",
   "execution_count": 3,
   "metadata": {
    "colab": {
     "base_uri": "https://localhost:8080/"
    },
    "executionInfo": {
     "elapsed": 410,
     "status": "ok",
     "timestamp": 1625173553966,
     "user": {
      "displayName": "Valeria S RULLONI",
      "photoUrl": "",
      "userId": "09936144167370803067"
     },
     "user_tz": 180
    },
    "id": "njvtrlsXvNBy",
    "outputId": "6bf89de1-9e81-4517-dc5d-43d7a0a8e557"
   },
   "outputs": [
    {
     "name": "stdout",
     "output_type": "stream",
     "text": [
      "Asignacion de un número entero a una variable. El dato asignado es  24  y su tipo es  <class 'int'>\n",
      "Asignacion de un número real a una variable. El dato asignado es  24.0  y su tipo es  <class 'float'>\n",
      "El dato asignado a la variable es  456966786151987643 y su tipo es  <class 'int'>\n"
     ]
    }
   ],
   "source": [
    "nroi=24\n",
    "print(\"Asignacion de un número entero a una variable. El dato asignado es \",nroi,\" y su tipo es \",type(nroi))\n",
    "nrof=24.0\n",
    "print(\"Asignacion de un número real a una variable. El dato asignado es \",nrof,\" y su tipo es \",type(nrof))\n",
    "\n",
    "#Asignamos un entero largo\n",
    "nroL=456966786151987643\n",
    "print(\"El dato asignado a la variable es \", nroL, \"y su tipo es \",type(nroL))\n"
   ]
  },
  {
   "cell_type": "markdown",
   "metadata": {
    "id": "ebPDUDoEvNB5"
   },
   "source": [
    "**También se pueden asignar valores utilizando notación científica**"
   ]
  },
  {
   "cell_type": "code",
   "execution_count": 4,
   "metadata": {
    "colab": {
     "base_uri": "https://localhost:8080/",
     "height": 52
    },
    "executionInfo": {
     "elapsed": 16005,
     "status": "ok",
     "timestamp": 1598310703677,
     "user": {
      "displayName": "SEBASTIAN PALACIO",
      "photoUrl": "https://lh3.googleusercontent.com/a-/AOh14Gj0ddKMgrPI-D45xKXtxfVNlN1JxRcCa9xfEbCM=s64",
      "userId": "06363896077793303054"
     },
     "user_tz": 180
    },
    "id": "6L8mIYngvNB7",
    "outputId": "d1d8b11b-8c63-44b8-b706-76f324ad2db2"
   },
   "outputs": [
    {
     "name": "stdout",
     "output_type": "stream",
     "text": [
      "0.002\n",
      "El tipo de dato asignado con notación científica es  <class 'float'>\n"
     ]
    }
   ],
   "source": [
    "nror=2e-3\n",
    "print(nror)\n",
    "print(\"El tipo de dato asignado con notación científica es \",type(nror))"
   ]
  },
  {
   "cell_type": "markdown",
   "metadata": {
    "id": "Flju18ChvNCB"
   },
   "source": [
    "**En las versiones actuales no hace falta definir enteros long. Toma tantos bits para almacenar como haga falta**"
   ]
  },
  {
   "cell_type": "code",
   "execution_count": 5,
   "metadata": {
    "colab": {
     "base_uri": "https://localhost:8080/",
     "height": 52
    },
    "executionInfo": {
     "elapsed": 16003,
     "status": "ok",
     "timestamp": 1598310703678,
     "user": {
      "displayName": "SEBASTIAN PALACIO",
      "photoUrl": "https://lh3.googleusercontent.com/a-/AOh14Gj0ddKMgrPI-D45xKXtxfVNlN1JxRcCa9xfEbCM=s64",
      "userId": "06363896077793303054"
     },
     "user_tz": 180
    },
    "id": "5ZNZg3GevNCD",
    "outputId": "d74c17e4-584e-4950-e22c-26712ea8ddc6"
   },
   "outputs": [
    {
     "name": "stdout",
     "output_type": "stream",
     "text": [
      "-3\n",
      "3\n"
     ]
    }
   ],
   "source": [
    "#Se puede calcular el valor absoluto de un número \n",
    "nro=-3\n",
    "print(nro)\n",
    "\n",
    "c=abs(nro)\n",
    "print(c)\n"
   ]
  },
  {
   "cell_type": "code",
   "execution_count": 6,
   "metadata": {
    "colab": {
     "base_uri": "https://localhost:8080/",
     "height": 104
    },
    "executionInfo": {
     "elapsed": 16001,
     "status": "ok",
     "timestamp": 1598310703679,
     "user": {
      "displayName": "SEBASTIAN PALACIO",
      "photoUrl": "https://lh3.googleusercontent.com/a-/AOh14Gj0ddKMgrPI-D45xKXtxfVNlN1JxRcCa9xfEbCM=s64",
      "userId": "06363896077793303054"
     },
     "user_tz": 180
    },
    "id": "77uFNyJ4vNCJ",
    "outputId": "066c1a30-8cce-42b7-fdeb-65d3a3008310"
   },
   "outputs": [
    {
     "name": "stdout",
     "output_type": "stream",
     "text": [
      "0.348 <class 'float'>\n",
      "-10.5 <class 'float'>\n",
      "150.0 <class 'float'>\n",
      "5 <class 'float'>\n",
      "hola <class 'str'>\n"
     ]
    }
   ],
   "source": [
    "#Se pueden hacer asignaciones simultáneas:\n",
    "nro_1, nro_2, nro_3, nro_4 , var = 0.348, -10.5, 1.5e2, 5, \"hola\"\n",
    "\n",
    "print (nro_1, type(nro_1))\n",
    "print (nro_2, type(nro_2))\n",
    "print (nro_3, type(nro_3))\n",
    "print (nro_4, type(nro_3))\n",
    "print (var, type(var))"
   ]
  },
  {
   "cell_type": "markdown",
   "metadata": {
    "id": "ZVtVADmkvNCQ"
   },
   "source": [
    "**Puede convertir tipos de datos numéricos con las funciones\n",
    "int(), float(), complex()**\n"
   ]
  },
  {
   "cell_type": "code",
   "execution_count": 7,
   "metadata": {
    "colab": {
     "base_uri": "https://localhost:8080/",
     "height": 35
    },
    "executionInfo": {
     "elapsed": 15999,
     "status": "ok",
     "timestamp": 1598310703679,
     "user": {
      "displayName": "SEBASTIAN PALACIO",
      "photoUrl": "https://lh3.googleusercontent.com/a-/AOh14Gj0ddKMgrPI-D45xKXtxfVNlN1JxRcCa9xfEbCM=s64",
      "userId": "06363896077793303054"
     },
     "user_tz": 180
    },
    "id": "BUeGSaarvNCR",
    "outputId": "05403e20-d987-494a-fe10-a0452ab23b5d"
   },
   "outputs": [
    {
     "name": "stdout",
     "output_type": "stream",
     "text": [
      "<class 'float'> 3 3.0 3.4\n"
     ]
    }
   ],
   "source": [
    "h=type(3.4)\n",
    "o=int(3.4)\n",
    "l=float(3)\n",
    "a=float(3.4)\n",
    "print(h, o, l, a)\n",
    "#float(\"palabra\") #función inválida para dato string"
   ]
  },
  {
   "cell_type": "code",
   "execution_count": 8,
   "metadata": {
    "id": "7ovtZk5LvNCX"
   },
   "outputs": [
    {
     "name": "stdout",
     "output_type": "stream",
     "text": [
      "No variables match your requested type.\n",
      "No variables match your requested type.\n"
     ]
    }
   ],
   "source": [
    "#este bloque de código es para que pruebe con otros ejemplos similares de lo visto hasta ahora:\n",
    "\n",
    "%who #para ver todas las variables definidas\n",
    "%whos # para ver el detalle"
   ]
  },
  {
   "cell_type": "markdown",
   "metadata": {
    "id": "-jQm3JgFvNCc"
   },
   "source": [
    "## 1.2 Operaciones Aritméticas y asignación de variables\n",
    "\n",
    "### Operaciones Aritméticas Elementales: + ,   - ,  *  ,  /   **  "
   ]
  },
  {
   "cell_type": "code",
   "execution_count": 9,
   "metadata": {
    "colab": {
     "base_uri": "https://localhost:8080/"
    },
    "executionInfo": {
     "elapsed": 5829,
     "status": "ok",
     "timestamp": 1627418990473,
     "user": {
      "displayName": "Valeria S RULLONI",
      "photoUrl": "",
      "userId": "09936144167370803067"
     },
     "user_tz": 180
    },
    "id": "5xSJOJHhvNCd",
    "outputId": "4f3eaaa5-ebb6-4e0d-de36-8a415a45bda4"
   },
   "outputs": [
    {
     "name": "stdout",
     "output_type": "stream",
     "text": [
      "Dígame un número, lo guardaremos en la variable x: \n"
     ]
    },
    {
     "ename": "ValueError",
     "evalue": "could not convert string to float: ",
     "output_type": "error",
     "traceback": [
      "\u001b[0;31m---------------------------------------------------------------------------\u001b[0m",
      "\u001b[0;31mValueError\u001b[0m                                Traceback (most recent call last)",
      "\u001b[0;32m<ipython-input-9-b83bc6d648e5>\u001b[0m in \u001b[0;36m<module>\u001b[0;34m\u001b[0m\n\u001b[1;32m      1\u001b[0m \u001b[0;31m#Ingresando un número por teclado\u001b[0m\u001b[0;34m\u001b[0m\u001b[0;34m\u001b[0m\u001b[0;34m\u001b[0m\u001b[0m\n\u001b[0;32m----> 2\u001b[0;31m \u001b[0mx\u001b[0m \u001b[0;34m=\u001b[0m \u001b[0mfloat\u001b[0m\u001b[0;34m(\u001b[0m\u001b[0minput\u001b[0m\u001b[0;34m(\u001b[0m\u001b[0;34m\"Dígame un número, lo guardaremos en la variable x: \"\u001b[0m\u001b[0;34m)\u001b[0m\u001b[0;34m)\u001b[0m\u001b[0;34m\u001b[0m\u001b[0;34m\u001b[0m\u001b[0m\n\u001b[0m\u001b[1;32m      3\u001b[0m \u001b[0mprint\u001b[0m\u001b[0;34m(\u001b[0m\u001b[0;34m\"El nro ingresado es: \"\u001b[0m\u001b[0;34m,\u001b[0m\u001b[0mx\u001b[0m\u001b[0;34m)\u001b[0m\u001b[0;34m\u001b[0m\u001b[0;34m\u001b[0m\u001b[0m\n\u001b[1;32m      4\u001b[0m \u001b[0;34m\u001b[0m\u001b[0m\n\u001b[1;32m      5\u001b[0m \u001b[0mprint\u001b[0m\u001b[0;34m(\u001b[0m\u001b[0;34m\"Tipo de x:\"\u001b[0m\u001b[0;34m)\u001b[0m\u001b[0;34m\u001b[0m\u001b[0;34m\u001b[0m\u001b[0m\n",
      "\u001b[0;31mValueError\u001b[0m: could not convert string to float: "
     ]
    }
   ],
   "source": [
    "#Ingresando un número por teclado\n",
    "x = float(input(\"Dígame un número, lo guardaremos en la variable x: \"))\n",
    "print(\"El nro ingresado es: \",x)\n",
    "\n",
    "print(\"Tipo de x:\")\n",
    "print(type(x))  # Imprime el tipo (o `clase`) de x\n",
    "print(\"Valor de la variable x es \",x)"
   ]
  },
  {
   "cell_type": "code",
   "execution_count": null,
   "metadata": {
    "colab": {
     "base_uri": "https://localhost:8080/"
    },
    "executionInfo": {
     "elapsed": 291,
     "status": "ok",
     "timestamp": 1627419160942,
     "user": {
      "displayName": "Valeria S RULLONI",
      "photoUrl": "",
      "userId": "09936144167370803067"
     },
     "user_tz": 180
    },
    "id": "SZWY-aibvNCk",
    "outputId": "519cdfa2-8c64-4454-cfb0-cf579ec5012b"
   },
   "outputs": [],
   "source": [
    "print(\"El resultado de sumarle 1 es \",x+1)\n",
    "print(\"restarle 1 da \",x-1)\n",
    "print(\"multipliicar por dos da\",x*2)\n",
    "print(\"hacer x/2, devuelve \",x/2)\n",
    "print(\"si elevamos al cuadrado a x \",x**2) \n",
    "print(\"Para imprimir varios valores en una línea:\")\n",
    "print(1,2,x,5*2) # imprime varios valores a la vez en la misma línea, separarlos por coma"
   ]
  },
  {
   "cell_type": "markdown",
   "metadata": {
    "id": "FaxhuEmfvNCp"
   },
   "source": [
    "### Operaciones entre enteros"
   ]
  },
  {
   "cell_type": "code",
   "execution_count": null,
   "metadata": {
    "colab": {
     "base_uri": "https://localhost:8080/"
    },
    "executionInfo": {
     "elapsed": 470,
     "status": "ok",
     "timestamp": 1627419232250,
     "user": {
      "displayName": "Valeria S RULLONI",
      "photoUrl": "",
      "userId": "09936144167370803067"
     },
     "user_tz": 180
    },
    "id": "nlR9B3usvNCq",
    "outputId": "0a151d8b-4cdd-4e4f-f314-07c185048b68"
   },
   "outputs": [],
   "source": [
    "#Operaciones entre números enteros: cociente y resto (o módulo)\n",
    "a=9\n",
    "b=2\n",
    "c=a//b #Cociente entre enteros\n",
    "d=a%b #Resto entre enteros\n",
    "print(a)\n",
    "print(b)\n",
    "print(c)#Cociente entre enteros- Devuelve 4\n",
    "print(d)#Resto entre enteros- Devuelve 1"
   ]
  },
  {
   "cell_type": "code",
   "execution_count": 10,
   "metadata": {
    "id": "LnEo228OvNCx"
   },
   "outputs": [],
   "source": [
    "#este bloque de código es para que pruebe con otros ejemplos similares de lo visto hasta ahora:\n",
    "\n"
   ]
  },
  {
   "cell_type": "markdown",
   "metadata": {
    "id": "BeJtru-OvNC4"
   },
   "source": [
    "**Ejercicio 1: Definir una variable $a$ con valor 5 y una variable $b$ que sea igual al cubo de la anterior más 2. Mostrarlas en pantalla**"
   ]
  },
  {
   "cell_type": "code",
   "execution_count": 11,
   "metadata": {
    "id": "WWxR7xkavNC5"
   },
   "outputs": [
    {
     "name": "stdout",
     "output_type": "stream",
     "text": [
      "5\n",
      "127\n"
     ]
    }
   ],
   "source": [
    "a= 5\n",
    "b= a**3+ 2\n",
    "print(a)\n",
    "print(b)"
   ]
  },
  {
   "cell_type": "markdown",
   "metadata": {
    "id": "ZiciOwC1vNC_"
   },
   "source": [
    "**Ejercicio 2: En el siguiente bloque o en un nuevo cuaderno (notebook) definir** \n",
    "* (a) la variable **var1** que contenga al número 10. Luego a \n",
    "* (b) **var2** como el doble de var y \n",
    "* (c) **var3** como el resultado de una cuenta combinada a su gusto.\n",
    "* (d) Imprima los resultados"
   ]
  },
  {
   "cell_type": "code",
   "execution_count": 12,
   "metadata": {
    "id": "kUde0iwKvNDA"
   },
   "outputs": [
    {
     "name": "stdout",
     "output_type": "stream",
     "text": [
      "10\n",
      "20\n",
      "410\n"
     ]
    }
   ],
   "source": [
    "var1=10\n",
    "var2=2*var1\n",
    "var3= var1+ var2**2\n",
    "print(var1)\n",
    "print(var2)\n",
    "print(var3)"
   ]
  },
  {
   "cell_type": "markdown",
   "metadata": {
    "id": "KNIp-tKOvNDG"
   },
   "source": [
    "## 1.3 Operadores (Opcional)\n",
    "\n",
    "**Lista de Operadores de Asignación**\n",
    "\n",
    "Operador =\n",
    "\n",
    "Operador +=\n",
    "\n",
    "Operador -=\n",
    "\n",
    "Operador *=\n",
    "\n",
    "Operador /=\n",
    "\n",
    "Operador**=\n",
    "\n",
    "Operador //=\n",
    "\n",
    "Operador %=\n",
    "\n"
   ]
  },
  {
   "cell_type": "code",
   "execution_count": 21,
   "metadata": {
    "id": "14uROtwOvNDH"
   },
   "outputs": [
    {
     "name": "stdout",
     "output_type": "stream",
     "text": [
      "5 <class 'int'>\n"
     ]
    }
   ],
   "source": [
    "# primero defino variables con valores (asigno valores a variables)\n",
    "a, b, c, d = 21, 10, 5, 3\n",
    "print(c, type(c))"
   ]
  },
  {
   "cell_type": "code",
   "execution_count": 22,
   "metadata": {
    "id": "JDE4XwInvNDO"
   },
   "outputs": [
    {
     "name": "stdout",
     "output_type": "stream",
     "text": [
      "Operador +=  c+=1| El valor de variable 'c' ahora es  6\n",
      "Operador *= | El nuevo valor de variable c, c*=10 es  60\n",
      "Operador /= | El nuevo valor de variable c, c/=10 es  6.0\n",
      "Operador **= | El nuevo valor de b, resultado de elevar b al exponente d, b**=d  1000\n",
      "Operador //= | El nuevo valor de b, resultado de dividir (en enteros) b por a, b//=a es  47\n",
      "Operador %= | El nuevo valor de c, resto de la división en enteros, c por d, c%=d es  0.0\n",
      "0.0 <class 'float'>\n"
     ]
    }
   ],
   "source": [
    "#Bloque Opcional\n",
    "#Ejemplos con el uso de operadores de asignación \n",
    "c += 1\n",
    "#A c le suma 1 y el resultado es guardado en c\n",
    "print (\"Operador +=  c+=1| El valor de variable 'c' ahora es \", c)\n",
    "\n",
    "c *= 10\n",
    "#El valor guardado en c es multiplicado por el valor de a y el resultado es almacenado en c\n",
    "print (\"Operador *= | El nuevo valor de variable c, c*=10 es \", c)\n",
    "\n",
    "c /= 10 \n",
    "#Lo mismo que en el caso anterior con la división\n",
    "print (\"Operador /= | El nuevo valor de variable c, c/=10 es \", c)\n",
    "\n",
    "b **= d\n",
    "#Se eleva b al exponente d\n",
    "print (\"Operador **= | El nuevo valor de b, resultado de elevar b al exponente d, b**=d \", b)\n",
    "\n",
    "b //= a\n",
    "print (\"Operador //= | El nuevo valor de b, resultado de dividir (en enteros) b por a, b//=a es \", b)\n",
    "\n",
    "\n",
    "c %= d\n",
    "# Se obtiene el resto de dividir c por d\n",
    "print (\"Operador %= | El nuevo valor de c, resto de la división en enteros, c por d, c%=d es \", c)\n",
    "\n",
    "print(c,type(c))\n"
   ]
  },
  {
   "cell_type": "code",
   "execution_count": 19,
   "metadata": {
    "id": "UDZh-AS6vNDU"
   },
   "outputs": [
    {
     "name": "stdout",
     "output_type": "stream",
     "text": [
      "2.5 <class 'float'>\n",
      "7.5 <class 'float'>\n",
      "10.5\n",
      "8.0\n"
     ]
    }
   ],
   "source": [
    "#Bloque Opcional\n",
    "#más ejemplos mezclados\n",
    "y=2.5\n",
    "print(y, type(y))\n",
    "x=3\n",
    "z=x*y\n",
    "print(z,type(z))\n",
    "z+=x  #Equivale a z=z+x\n",
    "print(z)\n",
    "z-=y #Equivale a z=z-y\n",
    "print(z)\n"
   ]
  },
  {
   "cell_type": "markdown",
   "metadata": {
    "id": "HGazRqi5vNDZ"
   },
   "source": [
    "**Ejercicio 3: En el siguiente bloque o en un nuevo cuaderno (notebook) definir, usando los operadores de asignación:** \n",
    "* (a) Definir una variable **x** que contenga al número 30. Luego \n",
    "* (b) cambiarla por el resto de dividir a **x** por 7 y \n",
    "* (c) luego como el resultado de una cuenta combinada a su gusto.\n",
    "* (d) Imprima los resultados parciales y el final"
   ]
  },
  {
   "cell_type": "code",
   "execution_count": 24,
   "metadata": {
    "id": "nqAg_JqjvNDa"
   },
   "outputs": [
    {
     "name": "stdout",
     "output_type": "stream",
     "text": [
      "30\n",
      "2\n",
      "3\n"
     ]
    }
   ],
   "source": [
    "x= 30\n",
    "print(x)\n",
    "x= x%7\n",
    "print(x)\n",
    "x= x+1\n",
    "print(x)\n"
   ]
  },
  {
   "cell_type": "markdown",
   "metadata": {
    "id": "P0u08WojvNDf"
   },
   "source": [
    "## 1.4 Datos booleanos (True y False)\n"
   ]
  },
  {
   "cell_type": "code",
   "execution_count": 25,
   "metadata": {
    "id": "0ODEHZrWvNDh"
   },
   "outputs": [
    {
     "name": "stdout",
     "output_type": "stream",
     "text": [
      "Valor de v1:  True Su tipo es:  <class 'bool'>\n",
      "Valor de v2:  False Su tipo es:  <class 'bool'>\n",
      "\n"
     ]
    }
   ],
   "source": [
    "#Tipo de dato booleano: 'bool', solo dos valores posibles, binario\n",
    "v1 = True #el valor verdadero: True \n",
    "v2 = False #el valor falso: False\n",
    "\n",
    "print(\"Valor de v1: \",v1, \"Su tipo es: \", type(v1))\n",
    "print(\"Valor de v2: \",v2, \"Su tipo es: \", type(v2))\n",
    "print()\n"
   ]
  },
  {
   "cell_type": "markdown",
   "metadata": {
    "id": "XQcbplmv7fuv"
   },
   "source": [
    "### Operaciones Lógicas AND, OR y NOT**"
   ]
  },
  {
   "cell_type": "code",
   "execution_count": null,
   "metadata": {
    "id": "1hn7JS_m7c9D"
   },
   "outputs": [],
   "source": [
    "#Operaciones Lógicas y, o y negación\n",
    "print(\"v1 and v2= \", v1 and v2) # y lógico; imprime False\n",
    "print(\"v1 or v2= \",v1 or v2)  # o lógico; imprime True\n",
    "print(\"v1 negado= \",not v1)   # negación lógica, imprime False\n"
   ]
  },
  {
   "cell_type": "markdown",
   "metadata": {
    "id": "hfoPugQVvNDm"
   },
   "source": [
    "### Comparaciones"
   ]
  },
  {
   "cell_type": "markdown",
   "metadata": {
    "id": "AlUHak3WvNIY"
   },
   "source": [
    "### Operadores para comparar: (devuelven un valor booleano)\n",
    "\n",
    "#### == ;    !=  ;   <   ;    >  ;     <=   ;     >="
   ]
  },
  {
   "cell_type": "code",
   "execution_count": null,
   "metadata": {
    "id": "fWyEE9N8vNDn"
   },
   "outputs": [],
   "source": [
    "#Comparaciones \n",
    "print (\"3==5\",3 == 5)  # Imprime False ya que son distintos\n",
    "print(\"3 !=6\",3 != 6)  # Imprime True ya que son distintos\n",
    "print(\"3<5\",3 < 5)  # Imprime True ya que 3 es menor que 5\n"
   ]
  },
  {
   "cell_type": "markdown",
   "metadata": {
    "id": "Ve4HddVSvNDu"
   },
   "source": [
    "**Ejercicio 4:** \n",
    "* Defina dos variables booleanas: A y B.\n",
    "* defina una variable C que devuelva True sólo si A y B son verdaderas (True) y D que devuelva True si A es True o C es True.\n",
    "* Reasigne valores a A y B usando comparaciones de números.\n",
    "* imprima en el proceso\n"
   ]
  },
  {
   "cell_type": "code",
   "execution_count": null,
   "metadata": {},
   "outputs": [],
   "source": []
  },
  {
   "cell_type": "code",
   "execution_count": 15,
   "metadata": {
    "id": "yHAQtyjJvNDv"
   },
   "outputs": [
    {
     "name": "stdout",
     "output_type": "stream",
     "text": [
      "True\n"
     ]
    }
   ],
   "source": [
    "a= True\n",
    "b= False\n",
    "if a and b:\n",
    "    c= True\n",
    "    print(c)\n",
    "if a or c:\n",
    "    d= True\n",
    "    print(d)"
   ]
  },
  {
   "cell_type": "markdown",
   "metadata": {
    "id": "yEKN_SBmvND1"
   },
   "source": [
    "**Ejercicio 5:** \n",
    "* Asigne el valor 7 a la variable $x$.\n",
    "* Verifique e imprima la veracidad de la siguiente afirmación: $x^2+5-2$ igual a $(x*5-9)*2$, para el valor $x$ asignado en el item anterior, usando las herramientas vistas hasta el momento.\n",
    "* Verifique e imprima que no es cierto si x es -7"
   ]
  },
  {
   "cell_type": "code",
   "execution_count": 20,
   "metadata": {
    "id": "WZcED08ovND2"
   },
   "outputs": [
    {
     "name": "stdout",
     "output_type": "stream",
     "text": [
      "True\n",
      "False\n"
     ]
    }
   ],
   "source": [
    "x=7\n",
    "x1= x**2 +3 \n",
    "x2= ((x* 5) - 9)*2\n",
    "print(x1== x2)\n",
    "print(x==-7)"
   ]
  },
  {
   "cell_type": "markdown",
   "metadata": {
    "id": "zclqS6w6vND7"
   },
   "source": [
    "## 1.5 Listas \n",
    "### Los elementos de una lista se colocan entre corchetes, separados por comas\n"
   ]
  },
  {
   "cell_type": "code",
   "execution_count": 21,
   "metadata": {
    "colab": {
     "base_uri": "https://localhost:8080/"
    },
    "executionInfo": {
     "elapsed": 36,
     "status": "ok",
     "timestamp": 1625190000560,
     "user": {
      "displayName": "Valeria S RULLONI",
      "photoUrl": "",
      "userId": "09936144167370803067"
     },
     "user_tz": 180
    },
    "id": "N5mdC7l6vND9",
    "outputId": "7f5c6439-9876-4cab-ee19-1ffdc34f2e9f"
   },
   "outputs": [
    {
     "name": "stdout",
     "output_type": "stream",
     "text": [
      "lista=  [1, 3, 5] su tipo es  <class 'list'>\n"
     ]
    }
   ],
   "source": [
    "#Definamos una Lista\n",
    "#Para hacerlo se usan corchetes y se separan los elementos mediante coma\n",
    "lista=[1,3,5]\n",
    "print(\"lista= \",lista, \"su tipo es \", type(lista))"
   ]
  },
  {
   "cell_type": "code",
   "execution_count": 28,
   "metadata": {},
   "outputs": [
    {
     "name": "stdout",
     "output_type": "stream",
     "text": [
      "5\n"
     ]
    }
   ],
   "source": [
    "print(lista[-1])#muestra el ultimo elemento y va de atras hacia adelante"
   ]
  },
  {
   "cell_type": "code",
   "execution_count": 22,
   "metadata": {
    "id": "DlJDrmU23ucd"
   },
   "outputs": [
    {
     "name": "stdout",
     "output_type": "stream",
     "text": [
      "1\n"
     ]
    }
   ],
   "source": [
    "#acceso a un elemento de la lista\n",
    "print(lista[0]) #el primer índice es el 0"
   ]
  },
  {
   "cell_type": "code",
   "execution_count": 24,
   "metadata": {
    "id": "MD23q3Kt4Ly0"
   },
   "outputs": [
    {
     "name": "stdout",
     "output_type": "stream",
     "text": [
      "[2, 3.0, 3]\n",
      "3.0 segundo elemento de la lista\n"
     ]
    }
   ],
   "source": [
    "#genere una lista de elementos, puede contener elementos de distinto tipo, complete:\n",
    "l=[2,l,3]\n",
    "print(l)\n",
    "print(l[1],'segundo elemento de la lista')"
   ]
  },
  {
   "cell_type": "markdown",
   "metadata": {
    "id": "BdOF9oew6C9-"
   },
   "source": [
    "Para copiar una variable, una lista  \n",
    "se usa  .copy()"
   ]
  },
  {
   "cell_type": "code",
   "execution_count": 25,
   "metadata": {
    "colab": {
     "base_uri": "https://localhost:8080/"
    },
    "executionInfo": {
     "elapsed": 454,
     "status": "ok",
     "timestamp": 1627425702407,
     "user": {
      "displayName": "Valeria S RULLONI",
      "photoUrl": "",
      "userId": "09936144167370803067"
     },
     "user_tz": 180
    },
    "id": "1IZL4_2hvNEC",
    "outputId": "2ad1d0b3-6e04-4dbf-fd97-ea12d0f89622"
   },
   "outputs": [
    {
     "name": "stdout",
     "output_type": "stream",
     "text": [
      "lista vieja  ['gato', 1, 2, 3]\n",
      "lista nueva igual a lista vieja ['gato', 1, 2, 3]\n"
     ]
    }
   ],
   "source": [
    "listavieja=['gato', 1, 2,3]\n",
    "listanueva=listavieja.copy() #copiamos una lista\n",
    "print('lista vieja ',listavieja)\n",
    "print('lista nueva igual a lista vieja', listanueva)"
   ]
  },
  {
   "cell_type": "code",
   "execution_count": 26,
   "metadata": {
    "colab": {
     "base_uri": "https://localhost:8080/"
    },
    "executionInfo": {
     "elapsed": 381,
     "status": "ok",
     "timestamp": 1627425745122,
     "user": {
      "displayName": "Valeria S RULLONI",
      "photoUrl": "",
      "userId": "09936144167370803067"
     },
     "user_tz": 180
    },
    "id": "fwrnEQIb40Bw",
    "outputId": "7fdb078d-5fc3-49ea-ad6d-c935d218498f"
   },
   "outputs": [
    {
     "name": "stdout",
     "output_type": "stream",
     "text": [
      "lista nueva  [5, 1, 2, 3]\n"
     ]
    }
   ],
   "source": [
    "listanueva[0]=5\n",
    "#Cambio en la lista nueva el primer lugar\n",
    "\n",
    "print('lista nueva ', listanueva)"
   ]
  },
  {
   "cell_type": "code",
   "execution_count": 27,
   "metadata": {
    "colab": {
     "base_uri": "https://localhost:8080/"
    },
    "executionInfo": {
     "elapsed": 391,
     "status": "ok",
     "timestamp": 1627425748489,
     "user": {
      "displayName": "Valeria S RULLONI",
      "photoUrl": "",
      "userId": "09936144167370803067"
     },
     "user_tz": 180
    },
    "id": "RF74GUXL5usd",
    "outputId": "e34401df-67bc-4bf5-f6d1-eeef62cccc2f"
   },
   "outputs": [
    {
     "name": "stdout",
     "output_type": "stream",
     "text": [
      "lista vieja  ['gato', 1, 2, 3]\n"
     ]
    }
   ],
   "source": [
    "print('lista vieja ',listavieja)"
   ]
  },
  {
   "cell_type": "code",
   "execution_count": null,
   "metadata": {},
   "outputs": [],
   "source": []
  },
  {
   "cell_type": "code",
   "execution_count": 31,
   "metadata": {},
   "outputs": [
    {
     "name": "stdout",
     "output_type": "stream",
     "text": [
      "[1, 2, 3, 5]\n"
     ]
    }
   ],
   "source": [
    "listanueva.sort()\n",
    "print(listanueva)"
   ]
  },
  {
   "cell_type": "code",
   "execution_count": 33,
   "metadata": {},
   "outputs": [
    {
     "name": "stdout",
     "output_type": "stream",
     "text": [
      "[5, 3, 2, 1]\n"
     ]
    }
   ],
   "source": [
    "listanueva.sort(reverse=True)\n",
    "print(listanueva)"
   ]
  },
  {
   "cell_type": "markdown",
   "metadata": {
    "id": "GMxpoORGvNEO"
   },
   "source": [
    "### Operador in"
   ]
  },
  {
   "cell_type": "code",
   "execution_count": 34,
   "metadata": {
    "colab": {
     "base_uri": "https://localhost:8080/"
    },
    "executionInfo": {
     "elapsed": 481,
     "status": "ok",
     "timestamp": 1627426169283,
     "user": {
      "displayName": "Valeria S RULLONI",
      "photoUrl": "",
      "userId": "09936144167370803067"
     },
     "user_tz": 180
    },
    "id": "agz-QCuivNEP",
    "outputId": "728d42ae-b6be-4ac4-a31c-6f938437fd61"
   },
   "outputs": [
    {
     "name": "stdout",
     "output_type": "stream",
     "text": [
      "False\n"
     ]
    }
   ],
   "source": [
    "#Definamos una Lista\n",
    "lista=[1,3,5] #Para hacerlo se usan corchetes y se separan los elementos mediante coma\n",
    "\n",
    "print(2 in lista) #devuelve booleano"
   ]
  },
  {
   "cell_type": "code",
   "execution_count": 35,
   "metadata": {
    "colab": {
     "base_uri": "https://localhost:8080/"
    },
    "executionInfo": {
     "elapsed": 2338,
     "status": "ok",
     "timestamp": 1627426175511,
     "user": {
      "displayName": "Valeria S RULLONI",
      "photoUrl": "",
      "userId": "09936144167370803067"
     },
     "user_tz": 180
    },
    "id": "OOsKNJiB6duc",
    "outputId": "2dc35274-3e35-4bcc-fb96-e06aa6b1f0b3"
   },
   "outputs": [
    {
     "name": "stdout",
     "output_type": "stream",
     "text": [
      "True\n"
     ]
    }
   ],
   "source": [
    "a=5\n",
    "res=a in lista\n",
    "print(res) #notemos que devuelve un dato booleano"
   ]
  },
  {
   "cell_type": "markdown",
   "metadata": {
    "id": "BkB4-2NlvNEW"
   },
   "source": [
    "### Operador not in"
   ]
  },
  {
   "cell_type": "code",
   "execution_count": 36,
   "metadata": {
    "colab": {
     "base_uri": "https://localhost:8080/"
    },
    "executionInfo": {
     "elapsed": 376,
     "status": "ok",
     "timestamp": 1627426193097,
     "user": {
      "displayName": "Valeria S RULLONI",
      "photoUrl": "",
      "userId": "09936144167370803067"
     },
     "user_tz": 180
    },
    "id": "88kzzAEtvNEX",
    "outputId": "ee41b8d6-d5a2-4a81-fa9b-0dbc01ba2bd3"
   },
   "outputs": [
    {
     "name": "stdout",
     "output_type": "stream",
     "text": [
      "False\n"
     ]
    }
   ],
   "source": [
    "lista=[1,3,5]\n",
    "print(1 not in lista)"
   ]
  },
  {
   "cell_type": "markdown",
   "metadata": {
    "id": "0HPVYbBevNEc"
   },
   "source": [
    "### Seguimos con Tipo lista (de strings, de datos numéricos)\n",
    "* Concatenación de Listas: + \n",
    "* Append\n",
    "* Acceso a un elemento particular de la lista (por la posición que se indica entre corchetes\n",
    "* Primer elemento de una lista: posición 0\n",
    "* Diferencia entre Lista y Vector: la lista puede contener elementos de distinto tipo!"
   ]
  },
  {
   "cell_type": "code",
   "execution_count": 37,
   "metadata": {
    "colab": {
     "base_uri": "https://localhost:8080/"
    },
    "executionInfo": {
     "elapsed": 466,
     "status": "ok",
     "timestamp": 1627426510974,
     "user": {
      "displayName": "Valeria S RULLONI",
      "photoUrl": "",
      "userId": "09936144167370803067"
     },
     "user_tz": 180
    },
    "id": "ci-PZWTYvNEd",
    "outputId": "33659e51-3eea-4820-9c49-53ab13d60742"
   },
   "outputs": [
    {
     "name": "stdout",
     "output_type": "stream",
     "text": [
      "7\n"
     ]
    }
   ],
   "source": [
    "xs = [3, 1, 7]    # Crea una lista. Los elementos se colocan entre corchetes, separados por coma.\n",
    "print(xs[-1])     # Indice negativo: implica que se cuenta desde el final de la lista; muestra \"7\""
   ]
  },
  {
   "cell_type": "code",
   "execution_count": 38,
   "metadata": {
    "colab": {
     "base_uri": "https://localhost:8080/"
    },
    "executionInfo": {
     "elapsed": 431,
     "status": "ok",
     "timestamp": 1627426603812,
     "user": {
      "displayName": "Valeria S RULLONI",
      "photoUrl": "",
      "userId": "09936144167370803067"
     },
     "user_tz": 180
    },
    "id": "FZFSGo6vLeQq",
    "outputId": "277b23b4-b719-466d-bdc5-9768648ca446"
   },
   "outputs": [
    {
     "name": "stdout",
     "output_type": "stream",
     "text": [
      "[3, 1, 'foo']\n"
     ]
    }
   ],
   "source": [
    "xs[2] = 'foo'     # Cambia el elemento final. Ahora la lista contiene elementos de distinto tipo\n",
    "print(xs)         # Muestra \"[3, 1, 'foo']\""
   ]
  },
  {
   "cell_type": "code",
   "execution_count": 39,
   "metadata": {
    "colab": {
     "base_uri": "https://localhost:8080/"
    },
    "executionInfo": {
     "elapsed": 536,
     "status": "ok",
     "timestamp": 1627426648274,
     "user": {
      "displayName": "Valeria S RULLONI",
      "photoUrl": "",
      "userId": "09936144167370803067"
     },
     "user_tz": 180
    },
    "id": "jfICLAWHLl9S",
    "outputId": "33bef4b5-6bf3-4134-98bf-00fadf634b3c"
   },
   "outputs": [
    {
     "name": "stdout",
     "output_type": "stream",
     "text": [
      "[3, 1, 'foo', 'bar']\n"
     ]
    }
   ],
   "source": [
    "xs.append('bar')  # Agrego un nuevo elemento al final\n",
    "print(xs)         # Muestra \"[3, 1, 'foo', 'bar']\" cuando se ejecuta una vez, probar que pasa si se ejecuta varias veces"
   ]
  },
  {
   "cell_type": "code",
   "execution_count": 40,
   "metadata": {
    "colab": {
     "base_uri": "https://localhost:8080/"
    },
    "executionInfo": {
     "elapsed": 370,
     "status": "ok",
     "timestamp": 1627426780325,
     "user": {
      "displayName": "Valeria S RULLONI",
      "photoUrl": "",
      "userId": "09936144167370803067"
     },
     "user_tz": 180
    },
    "id": "cI3saWvyMIBW",
    "outputId": "56f196a4-4b45-4bc9-dab8-4aeb36f0e856"
   },
   "outputs": [
    {
     "name": "stdout",
     "output_type": "stream",
     "text": [
      "bar [3, 1, 'foo']\n"
     ]
    }
   ],
   "source": [
    "x = xs.pop()      # Quito el último elemento de la lista y lo guardo en x\n",
    "print(x, xs)      # Muestro el elemento que quitamos y la lista que quedó: \"bar [3, 1, 'foo']\""
   ]
  },
  {
   "cell_type": "code",
   "execution_count": 41,
   "metadata": {
    "colab": {
     "base_uri": "https://localhost:8080/"
    },
    "executionInfo": {
     "elapsed": 434,
     "status": "ok",
     "timestamp": 1627426952058,
     "user": {
      "displayName": "Valeria S RULLONI",
      "photoUrl": "",
      "userId": "09936144167370803067"
     },
     "user_tz": 180
    },
    "id": "RKDaXj6nvNEi",
    "outputId": "ea3ce501-ad09-4946-aeab-9ce8e367523e"
   },
   "outputs": [
    {
     "name": "stdout",
     "output_type": "stream",
     "text": [
      "lista1= ['hola', 'que', 'tal', 'Juan']\n",
      "<class 'list'>\n",
      "<class 'str'>\n",
      "tal\n",
      "Juan\n",
      "4\n",
      "lista2= [25.0, 75, 0, 8.0, 20.0]\n",
      "<class 'list'>\n",
      "<class 'float'>\n",
      "75\n",
      "0\n",
      "5\n"
     ]
    }
   ],
   "source": [
    "#Ejemplos\n",
    "lista1=[\"hola\", \"que\", \"tal\",\"Juan\"]\n",
    "print(\"lista1=\", lista1)\n",
    "print(type(lista1)) #muestra el tipo lista\n",
    "print(type(lista1[0])) #muestra el tipo del elemento 0 (el primero)\n",
    "print(max(lista1)) #Para strings tiene en cuenta el código ASCII. \n",
    "# En el código ASCII las mayúsculas preceden a las minúsculas\n",
    "print(min(lista1))\n",
    "print(len(lista1))\n",
    "\n",
    "lista2=[25.,75,0, 8., 20.] \n",
    "print(\"lista2=\", lista2)\n",
    "print(type(lista2))\n",
    "print(type(lista2[0]))\n",
    "print(max(lista2))\n",
    "print(min(lista2))\n",
    "print(len(lista2))\n"
   ]
  },
  {
   "cell_type": "code",
   "execution_count": 45,
   "metadata": {},
   "outputs": [
    {
     "name": "stdout",
     "output_type": "stream",
     "text": [
      "['Juan', 'hola', 'que', 'tal']\n"
     ]
    }
   ],
   "source": [
    "lista1.sort()\n",
    "print(lista1)"
   ]
  },
  {
   "cell_type": "code",
   "execution_count": 46,
   "metadata": {
    "colab": {
     "base_uri": "https://localhost:8080/"
    },
    "executionInfo": {
     "elapsed": 380,
     "status": "ok",
     "timestamp": 1627427028223,
     "user": {
      "displayName": "Valeria S RULLONI",
      "photoUrl": "",
      "userId": "09936144167370803067"
     },
     "user_tz": 180
    },
    "id": "cfcgNIrSM9uh",
    "outputId": "bfcbd3c5-c883-4a4f-db46-791345b408ca"
   },
   "outputs": [
    {
     "name": "stdout",
     "output_type": "stream",
     "text": [
      "['Juan', 'hola', 'que', 'tal', 25.0, 75, 0, 8.0, 20.0, 25.0, 75, 0, 8.0, 20.0]\n",
      "<class 'list'>\n",
      "<class 'str'>\n",
      "[25.0, 75, 0, 8.0, 20.0, 25.0, 75, 0, 8.0, 20.0, 25.0, 75, 0, 8.0, 20.0, 25.0, 75, 0, 8.0, 20.0]\n",
      "[25.0, 75, 0, 8.0, 20.0, 25.0, 75, 0, 8.0, 20.0, 25.0, 75, 0, 8.0, 20.0, 25.0, 75, 0, 8.0, 20.0]\n"
     ]
    }
   ],
   "source": [
    "concatenada=lista1+lista2 #El signo + concatena listas, no es suma en este caso\n",
    "print(concatenada)\n",
    "print(type(concatenada))\n",
    "print(type(concatenada[0]))\n",
    "#No puede dar el máximo ni el mínimo porque los elementos son de distinto tipo: str y float\n",
    "\n",
    "print(lista2+lista2)\n",
    "lista2.extend(lista2)#Otro método de concatenación\n",
    "print(lista2)\n",
    "\n",
    "#print(lista2+2)#Esta operación daría error- Esta operación no es soportada por una lista\n",
    "# para trabajar con vectores debemos utilizar la librería numpy"
   ]
  },
  {
   "cell_type": "markdown",
   "metadata": {
    "id": "xAfnVpiuvNEm"
   },
   "source": [
    "# 2. Funciones Definidas por el Usuario"
   ]
  },
  {
   "cell_type": "markdown",
   "metadata": {
    "id": "FummoTjBvNEn"
   },
   "source": [
    "*Las funciones se definen con la palabra clave def*\n",
    "\n",
    "**Sintaxis**\n",
    "\n",
    "def nombre_funcion(parametros):\n",
    "    \n",
    "    Cuerpo de la función\n",
    "    \n",
    "    return\n"
   ]
  },
  {
   "cell_type": "markdown",
   "metadata": {
    "id": "dw704ef4vNEo"
   },
   "source": [
    "**Ejemplo de una función**"
   ]
  },
  {
   "cell_type": "code",
   "execution_count": 47,
   "metadata": {
    "id": "NVXdyo_bvNEp"
   },
   "outputs": [],
   "source": [
    "def sumar(a,b):\n",
    "    return a+b\n",
    "#hay que ejecutar la celda para que la función quede en memoria\n"
   ]
  },
  {
   "cell_type": "markdown",
   "metadata": {
    "id": "8YjYwhQJvNEt"
   },
   "source": [
    "**Llamada a la función**"
   ]
  },
  {
   "cell_type": "code",
   "execution_count": 48,
   "metadata": {
    "id": "esWuUD_HvNEu"
   },
   "outputs": [
    {
     "name": "stdout",
     "output_type": "stream",
     "text": [
      "La suma es\n",
      "7\n"
     ]
    }
   ],
   "source": [
    "c=sumar(2,5)\n",
    "print(\"La suma es\")\n",
    "print(c)\n"
   ]
  },
  {
   "cell_type": "markdown",
   "metadata": {
    "id": "pBCS7bATvNE5"
   },
   "source": [
    "**Llamada a la función**"
   ]
  },
  {
   "cell_type": "markdown",
   "metadata": {
    "id": "O-OgpPIjvNE_"
   },
   "source": [
    "**Ejercicio 6:**\n",
    "* defina una función sencilla con dos parámetros\n",
    "* impleméntela en dos valores concretos"
   ]
  },
  {
   "cell_type": "code",
   "execution_count": 49,
   "metadata": {
    "id": "Jzn_eikhvNFA"
   },
   "outputs": [],
   "source": [
    "def multi(a, b):\n",
    "    return a*b"
   ]
  },
  {
   "cell_type": "code",
   "execution_count": 50,
   "metadata": {},
   "outputs": [
    {
     "data": {
      "text/plain": [
       "6"
      ]
     },
     "execution_count": 50,
     "metadata": {},
     "output_type": "execute_result"
    }
   ],
   "source": [
    "multi(2,3)"
   ]
  },
  {
   "cell_type": "code",
   "execution_count": null,
   "metadata": {},
   "outputs": [],
   "source": []
  },
  {
   "cell_type": "code",
   "execution_count": null,
   "metadata": {},
   "outputs": [],
   "source": []
  },
  {
   "cell_type": "code",
   "execution_count": null,
   "metadata": {},
   "outputs": [],
   "source": []
  },
  {
   "cell_type": "code",
   "execution_count": null,
   "metadata": {},
   "outputs": [],
   "source": []
  },
  {
   "cell_type": "code",
   "execution_count": null,
   "metadata": {},
   "outputs": [],
   "source": []
  }
 ],
 "metadata": {
  "colab": {
   "name": "Ntb1_Python_2021.ipynb",
   "provenance": []
  },
  "kernelspec": {
   "display_name": "Python 3",
   "language": "python",
   "name": "python3"
  },
  "language_info": {
   "codemirror_mode": {
    "name": "ipython",
    "version": 3
   },
   "file_extension": ".py",
   "mimetype": "text/x-python",
   "name": "python",
   "nbconvert_exporter": "python",
   "pygments_lexer": "ipython3",
   "version": "3.7.3"
  }
 },
 "nbformat": 4,
 "nbformat_minor": 1
}
